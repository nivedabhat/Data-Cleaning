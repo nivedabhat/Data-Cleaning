{
 "cells": [
  {
   "cell_type": "markdown",
   "id": "4f1319db",
   "metadata": {
    "papermill": {
     "duration": 0.006592,
     "end_time": "2024-02-15T19:15:59.744640",
     "exception": false,
     "start_time": "2024-02-15T19:15:59.738048",
     "status": "completed"
    },
    "tags": []
   },
   "source": [
    "**This notebook is an exercise in the [Data Cleaning](https://www.kaggle.com/learn/data-cleaning) course.  You can reference the tutorial at [this link](https://www.kaggle.com/alexisbcook/character-encodings).**\n",
    "\n",
    "---\n"
   ]
  },
  {
   "cell_type": "markdown",
   "id": "b4a2f471",
   "metadata": {
    "papermill": {
     "duration": 0.005917,
     "end_time": "2024-02-15T19:15:59.757054",
     "exception": false,
     "start_time": "2024-02-15T19:15:59.751137",
     "status": "completed"
    },
    "tags": []
   },
   "source": [
    "In this exercise, you'll apply what you learned in the **Character encodings** tutorial.\n",
    "\n",
    "# Setup\n",
    "\n",
    "The questions below will give you feedback on your work. Run the following cell to set up the feedback system."
   ]
  },
  {
   "cell_type": "code",
   "execution_count": 1,
   "id": "06e655be",
   "metadata": {
    "execution": {
     "iopub.execute_input": "2024-02-15T19:15:59.772135Z",
     "iopub.status.busy": "2024-02-15T19:15:59.771336Z",
     "iopub.status.idle": "2024-02-15T19:16:00.877698Z",
     "shell.execute_reply": "2024-02-15T19:16:00.876536Z"
    },
    "papermill": {
     "duration": 1.117218,
     "end_time": "2024-02-15T19:16:00.880415",
     "exception": false,
     "start_time": "2024-02-15T19:15:59.763197",
     "status": "completed"
    },
    "tags": []
   },
   "outputs": [
    {
     "name": "stdout",
     "output_type": "stream",
     "text": [
      "Setup Complete\n"
     ]
    }
   ],
   "source": [
    "from learntools.core import binder\n",
    "binder.bind(globals())\n",
    "from learntools.data_cleaning.ex4 import *\n",
    "print(\"Setup Complete\")"
   ]
  },
  {
   "cell_type": "markdown",
   "id": "c8cf46fd",
   "metadata": {
    "papermill": {
     "duration": 0.006086,
     "end_time": "2024-02-15T19:16:00.892984",
     "exception": false,
     "start_time": "2024-02-15T19:16:00.886898",
     "status": "completed"
    },
    "tags": []
   },
   "source": [
    "# Get our environment set up\n",
    "\n",
    "The first thing we'll need to do is load in the libraries we'll be using."
   ]
  },
  {
   "cell_type": "code",
   "execution_count": 2,
   "id": "31c9285c",
   "metadata": {
    "execution": {
     "iopub.execute_input": "2024-02-15T19:16:00.908206Z",
     "iopub.status.busy": "2024-02-15T19:16:00.907797Z",
     "iopub.status.idle": "2024-02-15T19:16:00.913768Z",
     "shell.execute_reply": "2024-02-15T19:16:00.912552Z"
    },
    "papermill": {
     "duration": 0.016765,
     "end_time": "2024-02-15T19:16:00.916144",
     "exception": false,
     "start_time": "2024-02-15T19:16:00.899379",
     "status": "completed"
    },
    "tags": []
   },
   "outputs": [],
   "source": [
    "# modules we'll use\n",
    "import pandas as pd\n",
    "import numpy as np\n",
    "\n",
    "# helpful character encoding module\n",
    "import charset_normalizer\n",
    "\n",
    "# set seed for reproducibility\n",
    "np.random.seed(0)"
   ]
  },
  {
   "cell_type": "markdown",
   "id": "12417ace",
   "metadata": {
    "papermill": {
     "duration": 0.006059,
     "end_time": "2024-02-15T19:16:00.928634",
     "exception": false,
     "start_time": "2024-02-15T19:16:00.922575",
     "status": "completed"
    },
    "tags": []
   },
   "source": [
    "# 1) What are encodings?\n",
    "\n",
    "You're working with a dataset composed of bytes.  Run the code cell below to print a sample entry."
   ]
  },
  {
   "cell_type": "code",
   "execution_count": 3,
   "id": "e7bc6f90",
   "metadata": {
    "execution": {
     "iopub.execute_input": "2024-02-15T19:16:00.943558Z",
     "iopub.status.busy": "2024-02-15T19:16:00.942808Z",
     "iopub.status.idle": "2024-02-15T19:16:00.948530Z",
     "shell.execute_reply": "2024-02-15T19:16:00.947207Z"
    },
    "papermill": {
     "duration": 0.016043,
     "end_time": "2024-02-15T19:16:00.951032",
     "exception": false,
     "start_time": "2024-02-15T19:16:00.934989",
     "status": "completed"
    },
    "tags": []
   },
   "outputs": [
    {
     "name": "stdout",
     "output_type": "stream",
     "text": [
      "b'\\xa7A\\xa6n'\n",
      "data type: <class 'bytes'>\n"
     ]
    }
   ],
   "source": [
    "sample_entry = b'\\xa7A\\xa6n'\n",
    "print(sample_entry)\n",
    "print('data type:', type(sample_entry))"
   ]
  },
  {
   "cell_type": "markdown",
   "id": "3b29940d",
   "metadata": {
    "papermill": {
     "duration": 0.006193,
     "end_time": "2024-02-15T19:16:00.963720",
     "exception": false,
     "start_time": "2024-02-15T19:16:00.957527",
     "status": "completed"
    },
    "tags": []
   },
   "source": [
    "You notice that it doesn't use the standard UTF-8 encoding. \n",
    "\n",
    "Use the next code cell to create a variable `new_entry` that changes the encoding from `\"big5-tw\"` to `\"utf-8\"`.  `new_entry` should have the bytes datatype."
   ]
  },
  {
   "cell_type": "code",
   "execution_count": 4,
   "id": "578da30a",
   "metadata": {
    "execution": {
     "iopub.execute_input": "2024-02-15T19:16:00.978951Z",
     "iopub.status.busy": "2024-02-15T19:16:00.978554Z",
     "iopub.status.idle": "2024-02-15T19:16:00.988912Z",
     "shell.execute_reply": "2024-02-15T19:16:00.987603Z"
    },
    "papermill": {
     "duration": 0.021025,
     "end_time": "2024-02-15T19:16:00.991216",
     "exception": false,
     "start_time": "2024-02-15T19:16:00.970191",
     "status": "completed"
    },
    "tags": []
   },
   "outputs": [
    {
     "data": {
      "application/javascript": [
       "parent.postMessage({\"jupyterEvent\": \"custom.exercise_interaction\", \"data\": {\"outcomeType\": 1, \"valueTowardsCompletion\": 0.3333333333333333, \"interactionType\": 1, \"questionType\": 1, \"questionId\": \"1_EncodingsIntro\", \"learnToolsVersion\": \"0.3.4\", \"failureMessage\": \"\", \"exceptionClass\": \"\", \"trace\": \"\"}}, \"*\")"
      ],
      "text/plain": [
       "<IPython.core.display.Javascript object>"
      ]
     },
     "metadata": {},
     "output_type": "display_data"
    },
    {
     "data": {
      "text/markdown": [
       "<span style=\"color:#33cc33\">Correct</span>"
      ],
      "text/plain": [
       "Correct"
      ]
     },
     "metadata": {},
     "output_type": "display_data"
    }
   ],
   "source": [
    "before = sample_entry.decode(\"big5-tw\")\n",
    "new_entry = before.encode()\n",
    "\n",
    "# Check your answer\n",
    "q1.check()"
   ]
  },
  {
   "cell_type": "code",
   "execution_count": 5,
   "id": "ecf4aa3e",
   "metadata": {
    "execution": {
     "iopub.execute_input": "2024-02-15T19:16:01.007948Z",
     "iopub.status.busy": "2024-02-15T19:16:01.006751Z",
     "iopub.status.idle": "2024-02-15T19:16:01.017462Z",
     "shell.execute_reply": "2024-02-15T19:16:01.016243Z"
    },
    "papermill": {
     "duration": 0.022304,
     "end_time": "2024-02-15T19:16:01.020499",
     "exception": false,
     "start_time": "2024-02-15T19:16:00.998195",
     "status": "completed"
    },
    "tags": []
   },
   "outputs": [
    {
     "data": {
      "application/javascript": [
       "parent.postMessage({\"jupyterEvent\": \"custom.exercise_interaction\", \"data\": {\"interactionType\": 3, \"questionType\": 1, \"questionId\": \"1_EncodingsIntro\", \"learnToolsVersion\": \"0.3.4\", \"valueTowardsCompletion\": 0.0, \"failureMessage\": \"\", \"exceptionClass\": \"\", \"trace\": \"\", \"outcomeType\": 4}}, \"*\")"
      ],
      "text/plain": [
       "<IPython.core.display.Javascript object>"
      ]
     },
     "metadata": {},
     "output_type": "display_data"
    },
    {
     "data": {
      "text/markdown": [
       "<span style=\"color:#33cc99\">Solution:</span> \n",
       "```python\n",
       "before = sample_entry.decode(\"big5-tw\")\n",
       "new_entry = before.encode()\n",
       "\n",
       "```"
      ],
      "text/plain": [
       "Solution: \n",
       "```python\n",
       "before = sample_entry.decode(\"big5-tw\")\n",
       "new_entry = before.encode()\n",
       "\n",
       "```"
      ]
     },
     "metadata": {},
     "output_type": "display_data"
    }
   ],
   "source": [
    "# Lines below will give you a hint or solution code\n",
    "#q1.hint()\n",
    "q1.solution()"
   ]
  },
  {
   "cell_type": "markdown",
   "id": "a333b0aa",
   "metadata": {
    "papermill": {
     "duration": 0.007795,
     "end_time": "2024-02-15T19:16:01.036091",
     "exception": false,
     "start_time": "2024-02-15T19:16:01.028296",
     "status": "completed"
    },
    "tags": []
   },
   "source": [
    "# 2) Reading in files with encoding problems\n",
    "\n",
    "Use the code cell below to read in this file at path `\"../input/fatal-police-shootings-in-the-us/PoliceKillingsUS.csv\"`.  \n",
    "\n",
    "Figure out what the correct encoding should be and read in the file to a DataFrame `police_killings`."
   ]
  },
  {
   "cell_type": "code",
   "execution_count": 6,
   "id": "c70799bd",
   "metadata": {
    "execution": {
     "iopub.execute_input": "2024-02-15T19:16:01.052656Z",
     "iopub.status.busy": "2024-02-15T19:16:01.052282Z",
     "iopub.status.idle": "2024-02-15T19:16:01.081100Z",
     "shell.execute_reply": "2024-02-15T19:16:01.079880Z"
    },
    "papermill": {
     "duration": 0.040823,
     "end_time": "2024-02-15T19:16:01.084216",
     "exception": false,
     "start_time": "2024-02-15T19:16:01.043393",
     "status": "completed"
    },
    "tags": []
   },
   "outputs": [
    {
     "data": {
      "application/javascript": [
       "parent.postMessage({\"jupyterEvent\": \"custom.exercise_interaction\", \"data\": {\"outcomeType\": 1, \"valueTowardsCompletion\": 0.3333333333333333, \"interactionType\": 1, \"questionType\": 1, \"questionId\": \"2_ReadIn\", \"learnToolsVersion\": \"0.3.4\", \"failureMessage\": \"\", \"exceptionClass\": \"\", \"trace\": \"\"}}, \"*\")"
      ],
      "text/plain": [
       "<IPython.core.display.Javascript object>"
      ]
     },
     "metadata": {},
     "output_type": "display_data"
    },
    {
     "data": {
      "text/markdown": [
       "<span style=\"color:#33cc33\">Correct</span>"
      ],
      "text/plain": [
       "Correct"
      ]
     },
     "metadata": {},
     "output_type": "display_data"
    }
   ],
   "source": [
    "# TODO: Load in the DataFrame correctly.\n",
    "police_killings = pd.read_csv(\"../input/fatal-police-shootings-in-the-us/PoliceKillingsUS.csv\", encoding='Windows-1252')\n",
    "\n",
    "# Check your answer\n",
    "q2.check()"
   ]
  },
  {
   "cell_type": "markdown",
   "id": "23cae205",
   "metadata": {
    "papermill": {
     "duration": 0.008272,
     "end_time": "2024-02-15T19:16:01.100861",
     "exception": false,
     "start_time": "2024-02-15T19:16:01.092589",
     "status": "completed"
    },
    "tags": []
   },
   "source": [
    "Feel free to use any additional code cells for supplemental work.  To get credit for finishing this question, you'll need to run `q2.check()` and get a result of **Correct**."
   ]
  },
  {
   "cell_type": "code",
   "execution_count": 7,
   "id": "13f3521f",
   "metadata": {
    "execution": {
     "iopub.execute_input": "2024-02-15T19:16:01.118606Z",
     "iopub.status.busy": "2024-02-15T19:16:01.118218Z",
     "iopub.status.idle": "2024-02-15T19:16:01.123187Z",
     "shell.execute_reply": "2024-02-15T19:16:01.121843Z"
    },
    "papermill": {
     "duration": 0.017036,
     "end_time": "2024-02-15T19:16:01.125897",
     "exception": false,
     "start_time": "2024-02-15T19:16:01.108861",
     "status": "completed"
    },
    "tags": []
   },
   "outputs": [],
   "source": [
    "# (Optional) Use this code cell for any additional work."
   ]
  },
  {
   "cell_type": "code",
   "execution_count": 8,
   "id": "e3b6b6c6",
   "metadata": {
    "execution": {
     "iopub.execute_input": "2024-02-15T19:16:01.145374Z",
     "iopub.status.busy": "2024-02-15T19:16:01.144974Z",
     "iopub.status.idle": "2024-02-15T19:16:01.154957Z",
     "shell.execute_reply": "2024-02-15T19:16:01.153700Z"
    },
    "papermill": {
     "duration": 0.022862,
     "end_time": "2024-02-15T19:16:01.157573",
     "exception": false,
     "start_time": "2024-02-15T19:16:01.134711",
     "status": "completed"
    },
    "tags": []
   },
   "outputs": [
    {
     "data": {
      "application/javascript": [
       "parent.postMessage({\"jupyterEvent\": \"custom.exercise_interaction\", \"data\": {\"interactionType\": 3, \"questionType\": 1, \"questionId\": \"2_ReadIn\", \"learnToolsVersion\": \"0.3.4\", \"valueTowardsCompletion\": 0.0, \"failureMessage\": \"\", \"exceptionClass\": \"\", \"trace\": \"\", \"outcomeType\": 4}}, \"*\")"
      ],
      "text/plain": [
       "<IPython.core.display.Javascript object>"
      ]
     },
     "metadata": {},
     "output_type": "display_data"
    },
    {
     "data": {
      "text/markdown": [
       "<span style=\"color:#33cc99\">Solution:</span> \n",
       "```python\n",
       "police_killings = pd.read_csv(\"../input/fatal-police-shootings-in-the-us/PoliceKillingsUS.csv\", encoding='Windows-1252')\n",
       "\n",
       "```"
      ],
      "text/plain": [
       "Solution: \n",
       "```python\n",
       "police_killings = pd.read_csv(\"../input/fatal-police-shootings-in-the-us/PoliceKillingsUS.csv\", encoding='Windows-1252')\n",
       "\n",
       "```"
      ]
     },
     "metadata": {},
     "output_type": "display_data"
    }
   ],
   "source": [
    "# Lines below will give you a hint or solution code\n",
    "#q2.hint()\n",
    "q2.solution()"
   ]
  },
  {
   "cell_type": "markdown",
   "id": "372d3b5f",
   "metadata": {
    "papermill": {
     "duration": 0.008423,
     "end_time": "2024-02-15T19:16:01.174890",
     "exception": false,
     "start_time": "2024-02-15T19:16:01.166467",
     "status": "completed"
    },
    "tags": []
   },
   "source": [
    "# 3) Saving your files with UTF-8 encoding\n",
    "\n",
    "Save a version of the police killings dataset to CSV with UTF-8 encoding.  Your answer will be marked correct after saving this file.  \n",
    "\n",
    "Note: When using the `to_csv()` method, supply only the name of the file (e.g., `\"my_file.csv\"`).  This saves the file at the filepath `\"/kaggle/working/my_file.csv\"`."
   ]
  },
  {
   "cell_type": "code",
   "execution_count": 9,
   "id": "cbda825e",
   "metadata": {
    "execution": {
     "iopub.execute_input": "2024-02-15T19:16:01.193268Z",
     "iopub.status.busy": "2024-02-15T19:16:01.192629Z",
     "iopub.status.idle": "2024-02-15T19:16:01.246011Z",
     "shell.execute_reply": "2024-02-15T19:16:01.244881Z"
    },
    "papermill": {
     "duration": 0.065917,
     "end_time": "2024-02-15T19:16:01.248826",
     "exception": false,
     "start_time": "2024-02-15T19:16:01.182909",
     "status": "completed"
    },
    "tags": []
   },
   "outputs": [
    {
     "data": {
      "application/javascript": [
       "parent.postMessage({\"jupyterEvent\": \"custom.exercise_interaction\", \"data\": {\"outcomeType\": 1, \"valueTowardsCompletion\": 0.3333333333333333, \"interactionType\": 1, \"questionType\": 2, \"questionId\": \"3_SaveCSV\", \"learnToolsVersion\": \"0.3.4\", \"failureMessage\": \"\", \"exceptionClass\": \"\", \"trace\": \"\"}}, \"*\")"
      ],
      "text/plain": [
       "<IPython.core.display.Javascript object>"
      ]
     },
     "metadata": {},
     "output_type": "display_data"
    },
    {
     "data": {
      "text/markdown": [
       "<span style=\"color:#33cc33\">Correct</span>"
      ],
      "text/plain": [
       "Correct"
      ]
     },
     "metadata": {},
     "output_type": "display_data"
    }
   ],
   "source": [
    "# TODO: Save the police killings dataset to CSV\n",
    "police_killings.to_csv(\"my_file.csv\")\n",
    "\n",
    "# Check your answer\n",
    "q3.check()"
   ]
  },
  {
   "cell_type": "code",
   "execution_count": 10,
   "id": "ebc1df73",
   "metadata": {
    "execution": {
     "iopub.execute_input": "2024-02-15T19:16:01.268322Z",
     "iopub.status.busy": "2024-02-15T19:16:01.267643Z",
     "iopub.status.idle": "2024-02-15T19:16:01.277322Z",
     "shell.execute_reply": "2024-02-15T19:16:01.276190Z"
    },
    "papermill": {
     "duration": 0.022455,
     "end_time": "2024-02-15T19:16:01.279880",
     "exception": false,
     "start_time": "2024-02-15T19:16:01.257425",
     "status": "completed"
    },
    "tags": []
   },
   "outputs": [
    {
     "data": {
      "application/javascript": [
       "parent.postMessage({\"jupyterEvent\": \"custom.exercise_interaction\", \"data\": {\"interactionType\": 3, \"questionType\": 2, \"questionId\": \"3_SaveCSV\", \"learnToolsVersion\": \"0.3.4\", \"valueTowardsCompletion\": 0.0, \"failureMessage\": \"\", \"exceptionClass\": \"\", \"trace\": \"\", \"outcomeType\": 4}}, \"*\")"
      ],
      "text/plain": [
       "<IPython.core.display.Javascript object>"
      ]
     },
     "metadata": {},
     "output_type": "display_data"
    },
    {
     "data": {
      "text/markdown": [
       "<span style=\"color:#33cc99\">Solution:</span> \n",
       "```python\n",
       "\n",
       "police_killings.to_csv(\"my_file.csv\")\n",
       "\n",
       "```"
      ],
      "text/plain": [
       "Solution: \n",
       "```python\n",
       "\n",
       "police_killings.to_csv(\"my_file.csv\")\n",
       "\n",
       "```"
      ]
     },
     "metadata": {},
     "output_type": "display_data"
    }
   ],
   "source": [
    "# Lines below will give you a hint or solution code\n",
    "#q3.hint()\n",
    "q3.solution()"
   ]
  },
  {
   "cell_type": "markdown",
   "id": "8e84c166",
   "metadata": {
    "papermill": {
     "duration": 0.008267,
     "end_time": "2024-02-15T19:16:01.296850",
     "exception": false,
     "start_time": "2024-02-15T19:16:01.288583",
     "status": "completed"
    },
    "tags": []
   },
   "source": [
    "# (Optional) More practice\n",
    "\n",
    "Check out [this dataset of files in different character encodings](https://www.kaggle.com/rtatman/character-encoding-examples). Can you read in all the files with their original encodings and them save them out as UTF-8 files?\n",
    "\n",
    "If you have a file that's in UTF-8 but has just a couple of weird-looking characters in it, you can try out the [ftfy module](https://ftfy.readthedocs.io/en/latest/#) and see if it helps. \n",
    "\n",
    "# Keep going\n",
    "\n",
    "In the final lesson, learn how to [**clean up inconsistent text entries**](https://www.kaggle.com/alexisbcook/inconsistent-data-entry) in your dataset."
   ]
  },
  {
   "cell_type": "markdown",
   "id": "c18163fa",
   "metadata": {
    "papermill": {
     "duration": 0.008446,
     "end_time": "2024-02-15T19:16:01.314624",
     "exception": false,
     "start_time": "2024-02-15T19:16:01.306178",
     "status": "completed"
    },
    "tags": []
   },
   "source": [
    "---\n",
    "\n",
    "\n",
    "\n",
    "\n",
    "*Have questions or comments? Visit the [course discussion forum](https://www.kaggle.com/learn/data-cleaning/discussion) to chat with other learners.*"
   ]
  }
 ],
 "metadata": {
  "kaggle": {
   "accelerator": "none",
   "dataSources": [
    {
     "datasetId": 2647,
     "sourceId": 4395,
     "sourceType": "datasetVersion"
    }
   ],
   "isGpuEnabled": false,
   "isInternetEnabled": false,
   "language": "python",
   "sourceType": "notebook"
  },
  "kernelspec": {
   "display_name": "Python 3",
   "language": "python",
   "name": "python3"
  },
  "language_info": {
   "codemirror_mode": {
    "name": "ipython",
    "version": 3
   },
   "file_extension": ".py",
   "mimetype": "text/x-python",
   "name": "python",
   "nbconvert_exporter": "python",
   "pygments_lexer": "ipython3",
   "version": "3.10.13"
  },
  "papermill": {
   "default_parameters": {},
   "duration": 5.394682,
   "end_time": "2024-02-15T19:16:01.845142",
   "environment_variables": {},
   "exception": null,
   "input_path": "__notebook__.ipynb",
   "output_path": "__notebook__.ipynb",
   "parameters": {},
   "start_time": "2024-02-15T19:15:56.450460",
   "version": "2.5.0"
  }
 },
 "nbformat": 4,
 "nbformat_minor": 5
}
