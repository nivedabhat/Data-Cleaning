{
 "cells": [
  {
   "cell_type": "markdown",
   "id": "9bd4800c",
   "metadata": {
    "papermill": {
     "duration": 0.00969,
     "end_time": "2024-02-10T20:04:38.095182",
     "exception": false,
     "start_time": "2024-02-10T20:04:38.085492",
     "status": "completed"
    },
    "tags": []
   },
   "source": [
    "**This notebook is an exercise in the [Data Cleaning](https://www.kaggle.com/learn/data-cleaning) course.  You can reference the tutorial at [this link](https://www.kaggle.com/alexisbcook/handling-missing-values).**\n",
    "\n",
    "---\n"
   ]
  },
  {
   "cell_type": "markdown",
   "id": "d6e2cdac",
   "metadata": {
    "papermill": {
     "duration": 0.008436,
     "end_time": "2024-02-10T20:04:38.112485",
     "exception": false,
     "start_time": "2024-02-10T20:04:38.104049",
     "status": "completed"
    },
    "tags": []
   },
   "source": [
    "In this exercise, you'll apply what you learned in the **Handling missing values** tutorial.\n",
    "\n",
    "# Setup\n",
    "\n",
    "The questions below will give you feedback on your work. Run the following cell to set up the feedback system."
   ]
  },
  {
   "cell_type": "code",
   "execution_count": 1,
   "id": "1ad08345",
   "metadata": {
    "execution": {
     "iopub.execute_input": "2024-02-10T20:04:38.134712Z",
     "iopub.status.busy": "2024-02-10T20:04:38.133727Z",
     "iopub.status.idle": "2024-02-10T20:04:47.656935Z",
     "shell.execute_reply": "2024-02-10T20:04:47.655332Z"
    },
    "papermill": {
     "duration": 9.537771,
     "end_time": "2024-02-10T20:04:47.659878",
     "exception": false,
     "start_time": "2024-02-10T20:04:38.122107",
     "status": "completed"
    },
    "tags": []
   },
   "outputs": [
    {
     "name": "stderr",
     "output_type": "stream",
     "text": [
      "/opt/conda/lib/python3.10/site-packages/learntools/data_cleaning/ex1.py:6: DtypeWarning: Columns (22,32) have mixed types. Specify dtype option on import or set low_memory=False.\n",
      "  sf_permits = pd.read_csv(\"../input/building-permit-applications-data/Building_Permits.csv\")\n",
      "/tmp/ipykernel_18/3419995878.py:3: DeprecationWarning: `product` is deprecated as of NumPy 1.25.0, and will be removed in NumPy 2.0. Please use `prod` instead.\n",
      "  from learntools.data_cleaning.ex1 import *\n",
      "/opt/conda/lib/python3.10/site-packages/learntools/data_cleaning/ex1.py:69: FutureWarning: DataFrame.fillna with 'method' is deprecated and will raise in a future version. Use obj.ffill() or obj.bfill() instead.\n",
      "  _expected = sf_permits.fillna(method='bfill', axis=0).fillna(0)\n"
     ]
    },
    {
     "name": "stdout",
     "output_type": "stream",
     "text": [
      "Setup Complete\n"
     ]
    }
   ],
   "source": [
    "from learntools.core import binder\n",
    "binder.bind(globals())\n",
    "from learntools.data_cleaning.ex1 import *\n",
    "print(\"Setup Complete\")"
   ]
  },
  {
   "cell_type": "markdown",
   "id": "9a437968",
   "metadata": {
    "papermill": {
     "duration": 0.009843,
     "end_time": "2024-02-10T20:04:47.679528",
     "exception": false,
     "start_time": "2024-02-10T20:04:47.669685",
     "status": "completed"
    },
    "tags": []
   },
   "source": [
    "# 1) Take a first look at the data\n",
    "\n",
    "Run the next code cell to load in the libraries and dataset you'll use to complete the exercise."
   ]
  },
  {
   "cell_type": "code",
   "execution_count": 2,
   "id": "d2c85fca",
   "metadata": {
    "execution": {
     "iopub.execute_input": "2024-02-10T20:04:47.701985Z",
     "iopub.status.busy": "2024-02-10T20:04:47.701542Z",
     "iopub.status.idle": "2024-02-10T20:04:50.317693Z",
     "shell.execute_reply": "2024-02-10T20:04:50.316437Z"
    },
    "papermill": {
     "duration": 2.630613,
     "end_time": "2024-02-10T20:04:50.320657",
     "exception": false,
     "start_time": "2024-02-10T20:04:47.690044",
     "status": "completed"
    },
    "tags": []
   },
   "outputs": [
    {
     "name": "stderr",
     "output_type": "stream",
     "text": [
      "/tmp/ipykernel_18/1530698781.py:6: DtypeWarning: Columns (22,32) have mixed types. Specify dtype option on import or set low_memory=False.\n",
      "  sf_permits = pd.read_csv(\"/kaggle/input/building-permit-applications-data/Building_Permits.csv\")\n"
     ]
    }
   ],
   "source": [
    "# modules we'll use\n",
    "import pandas as pd\n",
    "import numpy as np\n",
    "\n",
    "# read in all our data\n",
    "sf_permits = pd.read_csv(\"/kaggle/input/building-permit-applications-data/Building_Permits.csv\")\n",
    "\n",
    "# set seed for reproducibility\n",
    "np.random.seed(0) "
   ]
  },
  {
   "cell_type": "markdown",
   "id": "cb26f099",
   "metadata": {
    "papermill": {
     "duration": 0.008765,
     "end_time": "2024-02-10T20:04:50.339114",
     "exception": false,
     "start_time": "2024-02-10T20:04:50.330349",
     "status": "completed"
    },
    "tags": []
   },
   "source": [
    "Use the code cell below to print the first five rows of the `sf_permits` DataFrame."
   ]
  },
  {
   "cell_type": "code",
   "execution_count": 3,
   "id": "0434d606",
   "metadata": {
    "execution": {
     "iopub.execute_input": "2024-02-10T20:04:50.361180Z",
     "iopub.status.busy": "2024-02-10T20:04:50.360685Z",
     "iopub.status.idle": "2024-02-10T20:04:50.875180Z",
     "shell.execute_reply": "2024-02-10T20:04:50.873297Z"
    },
    "papermill": {
     "duration": 0.529589,
     "end_time": "2024-02-10T20:04:50.878505",
     "exception": false,
     "start_time": "2024-02-10T20:04:50.348916",
     "status": "completed"
    },
    "tags": []
   },
   "outputs": [
    {
     "name": "stdout",
     "output_type": "stream",
     "text": [
      "  Permit Number  Permit Type            Permit Type Definition  \\\n",
      "0  201505065519            4                      sign - erect   \n",
      "1  201604195146            4                      sign - erect   \n",
      "2  201605278609            3  additions alterations or repairs   \n",
      "3  201611072166            8            otc alterations permit   \n",
      "4  201611283529            6                       demolitions   \n",
      "\n",
      "  Permit Creation Date Block  Lot  Street Number Street Number Suffix  \\\n",
      "0           05/06/2015  0326  023            140                  NaN   \n",
      "1           04/19/2016  0306  007            440                  NaN   \n",
      "2           05/27/2016  0595  203           1647                  NaN   \n",
      "3           11/07/2016  0156  011           1230                  NaN   \n",
      "4           11/28/2016  0342  001            950                  NaN   \n",
      "\n",
      "  Street Name Street Suffix  ...  Existing Construction Type  \\\n",
      "0       Ellis            St  ...                         3.0   \n",
      "1       Geary            St  ...                         3.0   \n",
      "2     Pacific            Av  ...                         1.0   \n",
      "3     Pacific            Av  ...                         5.0   \n",
      "4      Market            St  ...                         3.0   \n",
      "\n",
      "  Existing Construction Type Description Proposed Construction Type  \\\n",
      "0                          constr type 3                        NaN   \n",
      "1                          constr type 3                        NaN   \n",
      "2                          constr type 1                        1.0   \n",
      "3                         wood frame (5)                        5.0   \n",
      "4                          constr type 3                        NaN   \n",
      "\n",
      "  Proposed Construction Type Description Site Permit Supervisor District  \\\n",
      "0                                    NaN         NaN                 3.0   \n",
      "1                                    NaN         NaN                 3.0   \n",
      "2                          constr type 1         NaN                 3.0   \n",
      "3                         wood frame (5)         NaN                 3.0   \n",
      "4                                    NaN         NaN                 6.0   \n",
      "\n",
      "  Neighborhoods - Analysis Boundaries  Zipcode  \\\n",
      "0                          Tenderloin  94102.0   \n",
      "1                          Tenderloin  94102.0   \n",
      "2                        Russian Hill  94109.0   \n",
      "3                            Nob Hill  94109.0   \n",
      "4                          Tenderloin  94102.0   \n",
      "\n",
      "                                    Location      Record ID  \n",
      "0  (37.785719256680785, -122.40852313194863)  1380611233945  \n",
      "1   (37.78733980600732, -122.41063199757738)  1420164406718  \n",
      "2    (37.7946573324287, -122.42232562979227)  1424856504716  \n",
      "3   (37.79595867909168, -122.41557405519474)  1443574295566  \n",
      "4   (37.78315261897309, -122.40950883997789)   144548169992  \n",
      "\n",
      "[5 rows x 43 columns]\n",
      "Permit Number                                  0\n",
      "Permit Type                                    0\n",
      "Permit Type Definition                         0\n",
      "Permit Creation Date                           0\n",
      "Block                                          0\n",
      "Lot                                            0\n",
      "Street Number                                  0\n",
      "Street Number Suffix                      196684\n",
      "Street Name                                    0\n",
      "Street Suffix                               2768\n",
      "Unit                                      169421\n",
      "Unit Suffix                               196939\n",
      "Description                                  290\n",
      "Current Status                                 0\n",
      "Current Status Date                            0\n",
      "Filed Date                                     0\n",
      "Issued Date                                14940\n",
      "Completed Date                            101709\n",
      "First Construction Document Date           14946\n",
      "Structural Notification                   191978\n",
      "Number of Existing Stories                 42784\n",
      "Number of Proposed Stories                 42868\n",
      "Voluntary Soft-Story Retrofit             198865\n",
      "Fire Only Permit                          180073\n",
      "Permit Expiration Date                     51880\n",
      "Estimated Cost                             38066\n",
      "Revised Cost                                6066\n",
      "Existing Use                               41114\n",
      "Existing Units                             51538\n",
      "Proposed Use                               42439\n",
      "Proposed Units                             50911\n",
      "Plansets                                   37309\n",
      "TIDF Compliance                           198898\n",
      "Existing Construction Type                 43366\n",
      "Existing Construction Type Description     43366\n",
      "Proposed Construction Type                 43162\n",
      "Proposed Construction Type Description     43162\n",
      "Site Permit                               193541\n",
      "Supervisor District                         1717\n",
      "Neighborhoods - Analysis Boundaries         1725\n",
      "Zipcode                                     1716\n",
      "Location                                    1700\n",
      "Record ID                                      0\n",
      "dtype: int64\n"
     ]
    }
   ],
   "source": [
    "# TODO: Your code here!\n",
    "# Print the first five rows of the sf_permits DataFrame\n",
    "print(sf_permits.head())\n",
    "\n",
    "# Check for missing values\n",
    "missing_values = sf_permits.isnull().sum()\n",
    "print(missing_values)\n",
    "\n"
   ]
  },
  {
   "cell_type": "markdown",
   "id": "408473b7",
   "metadata": {
    "papermill": {
     "duration": 0.009514,
     "end_time": "2024-02-10T20:04:50.897949",
     "exception": false,
     "start_time": "2024-02-10T20:04:50.888435",
     "status": "completed"
    },
    "tags": []
   },
   "source": [
    "Does the dataset have any missing values?  Once you have an answer, run the code cell below to get credit for your work."
   ]
  },
  {
   "cell_type": "code",
   "execution_count": 4,
   "id": "62c0e0ce",
   "metadata": {
    "execution": {
     "iopub.execute_input": "2024-02-10T20:04:50.920982Z",
     "iopub.status.busy": "2024-02-10T20:04:50.920583Z",
     "iopub.status.idle": "2024-02-10T20:04:50.930672Z",
     "shell.execute_reply": "2024-02-10T20:04:50.929557Z"
    },
    "papermill": {
     "duration": 0.025558,
     "end_time": "2024-02-10T20:04:50.933901",
     "exception": false,
     "start_time": "2024-02-10T20:04:50.908343",
     "status": "completed"
    },
    "tags": []
   },
   "outputs": [
    {
     "data": {
      "application/javascript": [
       "parent.postMessage({\"jupyterEvent\": \"custom.exercise_interaction\", \"data\": {\"outcomeType\": 1, \"valueTowardsCompletion\": 0.16666666666666666, \"interactionType\": 1, \"questionType\": 4, \"questionId\": \"1_TakeFirstLook\", \"learnToolsVersion\": \"0.3.4\", \"failureMessage\": \"\", \"exceptionClass\": \"\", \"trace\": \"\"}}, \"*\")"
      ],
      "text/plain": [
       "<IPython.core.display.Javascript object>"
      ]
     },
     "metadata": {},
     "output_type": "display_data"
    },
    {
     "data": {
      "text/markdown": [
       "<span style=\"color:#33cc33\">Correct:</span> \n",
       "\n",
       "The first five rows of the data does show that several columns have missing values.  You can see this in the \"Street Number Suffix\", \"Proposed Construction Type\" and \"Site Permit\" columns, among others."
      ],
      "text/plain": [
       "Correct: \n",
       "\n",
       "The first five rows of the data does show that several columns have missing values.  You can see this in the \"Street Number Suffix\", \"Proposed Construction Type\" and \"Site Permit\" columns, among others."
      ]
     },
     "metadata": {},
     "output_type": "display_data"
    }
   ],
   "source": [
    "# Check your answer (Run this code cell to receive credit!)\n",
    "q1.check()"
   ]
  },
  {
   "cell_type": "code",
   "execution_count": 5,
   "id": "de484025",
   "metadata": {
    "execution": {
     "iopub.execute_input": "2024-02-10T20:04:50.956872Z",
     "iopub.status.busy": "2024-02-10T20:04:50.956477Z",
     "iopub.status.idle": "2024-02-10T20:04:50.961399Z",
     "shell.execute_reply": "2024-02-10T20:04:50.960040Z"
    },
    "papermill": {
     "duration": 0.019305,
     "end_time": "2024-02-10T20:04:50.964257",
     "exception": false,
     "start_time": "2024-02-10T20:04:50.944952",
     "status": "completed"
    },
    "tags": []
   },
   "outputs": [],
   "source": [
    "# Line below will give you a hint\n",
    "#q1.hint()"
   ]
  },
  {
   "cell_type": "markdown",
   "id": "bf75caf8",
   "metadata": {
    "papermill": {
     "duration": 0.010453,
     "end_time": "2024-02-10T20:04:50.984608",
     "exception": false,
     "start_time": "2024-02-10T20:04:50.974155",
     "status": "completed"
    },
    "tags": []
   },
   "source": [
    "# 2) How many missing data points do we have?\n",
    "\n",
    "What percentage of the values in the dataset are missing?  Your answer should be a number between 0 and 100.  (If 1/4 of the values in the dataset are missing, the answer is 25.)"
   ]
  },
  {
   "cell_type": "code",
   "execution_count": 6,
   "id": "1c108969",
   "metadata": {
    "execution": {
     "iopub.execute_input": "2024-02-10T20:04:51.006847Z",
     "iopub.status.busy": "2024-02-10T20:04:51.006439Z",
     "iopub.status.idle": "2024-02-10T20:04:51.018917Z",
     "shell.execute_reply": "2024-02-10T20:04:51.017385Z"
    },
    "papermill": {
     "duration": 0.027106,
     "end_time": "2024-02-10T20:04:51.021727",
     "exception": false,
     "start_time": "2024-02-10T20:04:50.994621",
     "status": "completed"
    },
    "tags": []
   },
   "outputs": [
    {
     "name": "stdout",
     "output_type": "stream",
     "text": [
      "26.26002315058403\n"
     ]
    },
    {
     "data": {
      "application/javascript": [
       "parent.postMessage({\"jupyterEvent\": \"custom.exercise_interaction\", \"data\": {\"outcomeType\": 1, \"valueTowardsCompletion\": 0.16666666666666666, \"interactionType\": 1, \"questionType\": 1, \"questionId\": \"2_PercentMissingValues\", \"learnToolsVersion\": \"0.3.4\", \"failureMessage\": \"\", \"exceptionClass\": \"\", \"trace\": \"\"}}, \"*\")"
      ],
      "text/plain": [
       "<IPython.core.display.Javascript object>"
      ]
     },
     "metadata": {},
     "output_type": "display_data"
    },
    {
     "data": {
      "text/markdown": [
       "<span style=\"color:#33cc33\">Correct</span>"
      ],
      "text/plain": [
       "Correct"
      ]
     },
     "metadata": {},
     "output_type": "display_data"
    }
   ],
   "source": [
    "# TODO: Your code here!\n",
    "# Calculate the percentage of missing values\n",
    "total_cells = np.product(sf_permits.shape)\n",
    "total_missing = missing_values.sum()\n",
    "\n",
    "percent_missing = (total_missing / total_cells) * 100\n",
    "print(percent_missing)\n",
    "\n",
    "\n",
    "# Check your answer\n",
    "q2.check()"
   ]
  },
  {
   "cell_type": "code",
   "execution_count": 7,
   "id": "3eef6ca0",
   "metadata": {
    "execution": {
     "iopub.execute_input": "2024-02-10T20:04:51.046849Z",
     "iopub.status.busy": "2024-02-10T20:04:51.046457Z",
     "iopub.status.idle": "2024-02-10T20:04:51.055939Z",
     "shell.execute_reply": "2024-02-10T20:04:51.054654Z"
    },
    "papermill": {
     "duration": 0.025617,
     "end_time": "2024-02-10T20:04:51.058592",
     "exception": false,
     "start_time": "2024-02-10T20:04:51.032975",
     "status": "completed"
    },
    "tags": []
   },
   "outputs": [
    {
     "data": {
      "application/javascript": [
       "parent.postMessage({\"jupyterEvent\": \"custom.exercise_interaction\", \"data\": {\"interactionType\": 2, \"questionType\": 1, \"questionId\": \"2_PercentMissingValues\", \"learnToolsVersion\": \"0.3.4\", \"valueTowardsCompletion\": 0.0, \"failureMessage\": \"\", \"exceptionClass\": \"\", \"trace\": \"\", \"outcomeType\": 4}}, \"*\")"
      ],
      "text/plain": [
       "<IPython.core.display.Javascript object>"
      ]
     },
     "metadata": {},
     "output_type": "display_data"
    },
    {
     "data": {
      "text/markdown": [
       "<span style=\"color:#3366cc\">Hint:</span> You can begin by getting the number of missing entries in each column with `missing_values_count = sf_permits.isnull().sum()`."
      ],
      "text/plain": [
       "Hint: You can begin by getting the number of missing entries in each column with `missing_values_count = sf_permits.isnull().sum()`."
      ]
     },
     "metadata": {},
     "output_type": "display_data"
    }
   ],
   "source": [
    "# Lines below will give you a hint or solution code\n",
    "q2.hint()\n",
    "#q2.solution()"
   ]
  },
  {
   "cell_type": "markdown",
   "id": "8727e1cf",
   "metadata": {
    "papermill": {
     "duration": 0.011077,
     "end_time": "2024-02-10T20:04:51.080232",
     "exception": false,
     "start_time": "2024-02-10T20:04:51.069155",
     "status": "completed"
    },
    "tags": []
   },
   "source": [
    "# 3) Figure out why the data is missing\n",
    "\n",
    "Look at the columns **\"Street Number Suffix\"** and **\"Zipcode\"** from the [San Francisco Building Permits dataset](https://www.kaggle.com/aparnashastry/building-permit-applications-data). Both of these contain missing values. \n",
    "- Which, if either, are missing because they don't exist? \n",
    "- Which, if either, are missing because they weren't recorded?  \n",
    "\n",
    "Once you have an answer, run the code cell below."
   ]
  },
  {
   "cell_type": "code",
   "execution_count": 8,
   "id": "a05fb11b",
   "metadata": {
    "execution": {
     "iopub.execute_input": "2024-02-10T20:04:51.103531Z",
     "iopub.status.busy": "2024-02-10T20:04:51.103096Z",
     "iopub.status.idle": "2024-02-10T20:04:51.111690Z",
     "shell.execute_reply": "2024-02-10T20:04:51.110713Z"
    },
    "papermill": {
     "duration": 0.023002,
     "end_time": "2024-02-10T20:04:51.113916",
     "exception": false,
     "start_time": "2024-02-10T20:04:51.090914",
     "status": "completed"
    },
    "tags": []
   },
   "outputs": [
    {
     "data": {
      "application/javascript": [
       "parent.postMessage({\"jupyterEvent\": \"custom.exercise_interaction\", \"data\": {\"outcomeType\": 1, \"valueTowardsCompletion\": 0.16666666666666666, \"interactionType\": 1, \"questionType\": 4, \"questionId\": \"3_WhyDataMissing\", \"learnToolsVersion\": \"0.3.4\", \"failureMessage\": \"\", \"exceptionClass\": \"\", \"trace\": \"\"}}, \"*\")"
      ],
      "text/plain": [
       "<IPython.core.display.Javascript object>"
      ]
     },
     "metadata": {},
     "output_type": "display_data"
    },
    {
     "data": {
      "text/markdown": [
       "<span style=\"color:#33cc33\">Correct:</span> \n",
       "\n",
       "If a value in the \"Street Number Suffix\" column is missing, it is likely because it does not exist. If a value in the \"Zipcode\" column is missing, it was not recorded."
      ],
      "text/plain": [
       "Correct: \n",
       "\n",
       "If a value in the \"Street Number Suffix\" column is missing, it is likely because it does not exist. If a value in the \"Zipcode\" column is missing, it was not recorded."
      ]
     },
     "metadata": {},
     "output_type": "display_data"
    }
   ],
   "source": [
    "# Check your answer (Run this code cell to receive credit!)\n",
    "q3.check()"
   ]
  },
  {
   "cell_type": "code",
   "execution_count": 9,
   "id": "8d9c5016",
   "metadata": {
    "execution": {
     "iopub.execute_input": "2024-02-10T20:04:51.139142Z",
     "iopub.status.busy": "2024-02-10T20:04:51.138662Z",
     "iopub.status.idle": "2024-02-10T20:04:51.149495Z",
     "shell.execute_reply": "2024-02-10T20:04:51.147995Z"
    },
    "papermill": {
     "duration": 0.027066,
     "end_time": "2024-02-10T20:04:51.152093",
     "exception": false,
     "start_time": "2024-02-10T20:04:51.125027",
     "status": "completed"
    },
    "tags": []
   },
   "outputs": [
    {
     "data": {
      "application/javascript": [
       "parent.postMessage({\"jupyterEvent\": \"custom.exercise_interaction\", \"data\": {\"interactionType\": 2, \"questionType\": 4, \"questionId\": \"3_WhyDataMissing\", \"learnToolsVersion\": \"0.3.4\", \"valueTowardsCompletion\": 0.0, \"failureMessage\": \"\", \"exceptionClass\": \"\", \"trace\": \"\", \"outcomeType\": 4}}, \"*\")"
      ],
      "text/plain": [
       "<IPython.core.display.Javascript object>"
      ]
     },
     "metadata": {},
     "output_type": "display_data"
    },
    {
     "data": {
      "text/markdown": [
       "<span style=\"color:#3366cc\">Hint:</span> Do all addresses generally have a street number suffix?  Do all addresses generally have a zipcode?"
      ],
      "text/plain": [
       "Hint: Do all addresses generally have a street number suffix?  Do all addresses generally have a zipcode?"
      ]
     },
     "metadata": {},
     "output_type": "display_data"
    }
   ],
   "source": [
    "# Line below will give you a hint\n",
    "q3.hint()"
   ]
  },
  {
   "cell_type": "markdown",
   "id": "ba95a616",
   "metadata": {
    "papermill": {
     "duration": 0.012208,
     "end_time": "2024-02-10T20:04:51.176104",
     "exception": false,
     "start_time": "2024-02-10T20:04:51.163896",
     "status": "completed"
    },
    "tags": []
   },
   "source": [
    "# 4) Drop missing values: rows\n",
    "\n",
    "If you removed all of the rows of `sf_permits` with missing values, how many rows are left?\n",
    "\n",
    "**Note**: Do not change the value of `sf_permits` when checking this.  "
   ]
  },
  {
   "cell_type": "code",
   "execution_count": 10,
   "id": "3f09ae0f",
   "metadata": {
    "execution": {
     "iopub.execute_input": "2024-02-10T20:04:51.201955Z",
     "iopub.status.busy": "2024-02-10T20:04:51.201494Z",
     "iopub.status.idle": "2024-02-10T20:04:51.698433Z",
     "shell.execute_reply": "2024-02-10T20:04:51.696564Z"
    },
    "papermill": {
     "duration": 0.513063,
     "end_time": "2024-02-10T20:04:51.701428",
     "exception": false,
     "start_time": "2024-02-10T20:04:51.188365",
     "status": "completed"
    },
    "tags": []
   },
   "outputs": [
    {
     "name": "stdout",
     "output_type": "stream",
     "text": [
      "0\n"
     ]
    }
   ],
   "source": [
    "# TODO: Your code here!\n",
    "# Count the number of rows left after removing rows with missing values\n",
    "rows_without_missing_values = sf_permits.dropna()\n",
    "\n",
    "# Get the number of rows left\n",
    "num_rows_left = rows_without_missing_values.shape[0]\n",
    "print(num_rows_left)\n",
    "\n"
   ]
  },
  {
   "cell_type": "markdown",
   "id": "51cb9312",
   "metadata": {
    "papermill": {
     "duration": 0.010885,
     "end_time": "2024-02-10T20:04:51.723687",
     "exception": false,
     "start_time": "2024-02-10T20:04:51.712802",
     "status": "completed"
    },
    "tags": []
   },
   "source": [
    "Once you have an answer, run the code cell below."
   ]
  },
  {
   "cell_type": "code",
   "execution_count": 11,
   "id": "9b36ca78",
   "metadata": {
    "execution": {
     "iopub.execute_input": "2024-02-10T20:04:51.749675Z",
     "iopub.status.busy": "2024-02-10T20:04:51.748465Z",
     "iopub.status.idle": "2024-02-10T20:04:51.758047Z",
     "shell.execute_reply": "2024-02-10T20:04:51.757113Z"
    },
    "papermill": {
     "duration": 0.025836,
     "end_time": "2024-02-10T20:04:51.760792",
     "exception": false,
     "start_time": "2024-02-10T20:04:51.734956",
     "status": "completed"
    },
    "tags": []
   },
   "outputs": [
    {
     "data": {
      "application/javascript": [
       "parent.postMessage({\"jupyterEvent\": \"custom.exercise_interaction\", \"data\": {\"outcomeType\": 1, \"valueTowardsCompletion\": 0.16666666666666666, \"interactionType\": 1, \"questionType\": 4, \"questionId\": \"4_DropMissingRows\", \"learnToolsVersion\": \"0.3.4\", \"failureMessage\": \"\", \"exceptionClass\": \"\", \"trace\": \"\"}}, \"*\")"
      ],
      "text/plain": [
       "<IPython.core.display.Javascript object>"
      ]
     },
     "metadata": {},
     "output_type": "display_data"
    },
    {
     "data": {
      "text/markdown": [
       "<span style=\"color:#33cc33\">Correct:</span> \n",
       "\n",
       "There are no rows remaining in the dataset!"
      ],
      "text/plain": [
       "Correct: \n",
       "\n",
       "There are no rows remaining in the dataset!"
      ]
     },
     "metadata": {},
     "output_type": "display_data"
    }
   ],
   "source": [
    "# Check your answer (Run this code cell to receive credit!)\n",
    "q4.check()"
   ]
  },
  {
   "cell_type": "code",
   "execution_count": 12,
   "id": "5b537c33",
   "metadata": {
    "execution": {
     "iopub.execute_input": "2024-02-10T20:04:51.786302Z",
     "iopub.status.busy": "2024-02-10T20:04:51.785848Z",
     "iopub.status.idle": "2024-02-10T20:04:51.794713Z",
     "shell.execute_reply": "2024-02-10T20:04:51.793677Z"
    },
    "papermill": {
     "duration": 0.024555,
     "end_time": "2024-02-10T20:04:51.797039",
     "exception": false,
     "start_time": "2024-02-10T20:04:51.772484",
     "status": "completed"
    },
    "tags": []
   },
   "outputs": [
    {
     "data": {
      "application/javascript": [
       "parent.postMessage({\"jupyterEvent\": \"custom.exercise_interaction\", \"data\": {\"interactionType\": 2, \"questionType\": 4, \"questionId\": \"4_DropMissingRows\", \"learnToolsVersion\": \"0.3.4\", \"valueTowardsCompletion\": 0.0, \"failureMessage\": \"\", \"exceptionClass\": \"\", \"trace\": \"\", \"outcomeType\": 4}}, \"*\")"
      ],
      "text/plain": [
       "<IPython.core.display.Javascript object>"
      ]
     },
     "metadata": {},
     "output_type": "display_data"
    },
    {
     "data": {
      "text/markdown": [
       "<span style=\"color:#3366cc\">Hint:</span> Use `sf_permits.dropna()` to drop all missing rows."
      ],
      "text/plain": [
       "Hint: Use `sf_permits.dropna()` to drop all missing rows."
      ]
     },
     "metadata": {},
     "output_type": "display_data"
    }
   ],
   "source": [
    "# Line below will give you a hint\n",
    "q4.hint()"
   ]
  },
  {
   "cell_type": "markdown",
   "id": "0a9f06c0",
   "metadata": {
    "papermill": {
     "duration": 0.01159,
     "end_time": "2024-02-10T20:04:51.821699",
     "exception": false,
     "start_time": "2024-02-10T20:04:51.810109",
     "status": "completed"
    },
    "tags": []
   },
   "source": [
    "# 5) Drop missing values: columns\n",
    "\n",
    "Now try removing all the columns with empty values.  \n",
    "- Create a new DataFrame called `sf_permits_with_na_dropped` that has all of the columns with empty values removed.  \n",
    "- How many columns were removed from the original `sf_permits` DataFrame? Use this number to set the value of the `dropped_columns` variable below."
   ]
  },
  {
   "cell_type": "code",
   "execution_count": 13,
   "id": "8ae228cd",
   "metadata": {
    "execution": {
     "iopub.execute_input": "2024-02-10T20:04:51.848008Z",
     "iopub.status.busy": "2024-02-10T20:04:51.847410Z",
     "iopub.status.idle": "2024-02-10T20:04:52.376468Z",
     "shell.execute_reply": "2024-02-10T20:04:52.375528Z"
    },
    "papermill": {
     "duration": 0.545011,
     "end_time": "2024-02-10T20:04:52.378649",
     "exception": false,
     "start_time": "2024-02-10T20:04:51.833638",
     "status": "completed"
    },
    "tags": []
   },
   "outputs": [
    {
     "name": "stdout",
     "output_type": "stream",
     "text": [
      "Number of columns removed: 31\n"
     ]
    },
    {
     "data": {
      "application/javascript": [
       "parent.postMessage({\"jupyterEvent\": \"custom.exercise_interaction\", \"data\": {\"outcomeType\": 1, \"valueTowardsCompletion\": 0.16666666666666666, \"interactionType\": 1, \"questionType\": 1, \"questionId\": \"5_DropMissingCols\", \"learnToolsVersion\": \"0.3.4\", \"failureMessage\": \"\", \"exceptionClass\": \"\", \"trace\": \"\"}}, \"*\")"
      ],
      "text/plain": [
       "<IPython.core.display.Javascript object>"
      ]
     },
     "metadata": {},
     "output_type": "display_data"
    },
    {
     "data": {
      "text/markdown": [
       "<span style=\"color:#33cc33\">Correct</span>"
      ],
      "text/plain": [
       "Correct"
      ]
     },
     "metadata": {},
     "output_type": "display_data"
    }
   ],
   "source": [
    "# TODO: Your code here\n",
    "# Remove columns with empty values\n",
    "sf_permits_with_na_dropped = sf_permits.dropna(axis=1)\n",
    "\n",
    "# Calculate the number of columns removed\n",
    "dropped_columns = sf_permits.shape[1] - sf_permits_with_na_dropped.shape[1]\n",
    "print(\"Number of columns removed:\", dropped_columns)\n",
    "\n",
    "\n",
    "# Check your answer\n",
    "q5.check()"
   ]
  },
  {
   "cell_type": "code",
   "execution_count": 14,
   "id": "8e01679e",
   "metadata": {
    "execution": {
     "iopub.execute_input": "2024-02-10T20:04:52.409536Z",
     "iopub.status.busy": "2024-02-10T20:04:52.409050Z",
     "iopub.status.idle": "2024-02-10T20:04:52.419964Z",
     "shell.execute_reply": "2024-02-10T20:04:52.418365Z"
    },
    "papermill": {
     "duration": 0.029336,
     "end_time": "2024-02-10T20:04:52.422650",
     "exception": false,
     "start_time": "2024-02-10T20:04:52.393314",
     "status": "completed"
    },
    "tags": []
   },
   "outputs": [
    {
     "data": {
      "application/javascript": [
       "parent.postMessage({\"jupyterEvent\": \"custom.exercise_interaction\", \"data\": {\"interactionType\": 2, \"questionType\": 1, \"questionId\": \"5_DropMissingCols\", \"learnToolsVersion\": \"0.3.4\", \"valueTowardsCompletion\": 0.0, \"failureMessage\": \"\", \"exceptionClass\": \"\", \"trace\": \"\", \"outcomeType\": 4}}, \"*\")"
      ],
      "text/plain": [
       "<IPython.core.display.Javascript object>"
      ]
     },
     "metadata": {},
     "output_type": "display_data"
    },
    {
     "data": {
      "text/markdown": [
       "<span style=\"color:#3366cc\">Hint:</span> You can begin by getting the dropping all columns with missing values with `sf_permits.dropna(axis=1)`."
      ],
      "text/plain": [
       "Hint: You can begin by getting the dropping all columns with missing values with `sf_permits.dropna(axis=1)`."
      ]
     },
     "metadata": {},
     "output_type": "display_data"
    }
   ],
   "source": [
    "# Lines below will give you a hint or solution code\n",
    "q5.hint()\n",
    "#q5.solution()"
   ]
  },
  {
   "cell_type": "markdown",
   "id": "2a2e4be2",
   "metadata": {
    "papermill": {
     "duration": 0.012958,
     "end_time": "2024-02-10T20:04:52.449842",
     "exception": false,
     "start_time": "2024-02-10T20:04:52.436884",
     "status": "completed"
    },
    "tags": []
   },
   "source": [
    "# 6) Fill in missing values automatically\n",
    "\n",
    "Try replacing all the NaN's in the `sf_permits` data with the one that comes directly after it and then replacing any remaining NaN's with 0.  Set the result to a new DataFrame `sf_permits_with_na_imputed`."
   ]
  },
  {
   "cell_type": "code",
   "execution_count": 15,
   "id": "de8ad5a3",
   "metadata": {
    "execution": {
     "iopub.execute_input": "2024-02-10T20:04:52.481943Z",
     "iopub.status.busy": "2024-02-10T20:04:52.481387Z",
     "iopub.status.idle": "2024-02-10T20:04:55.985365Z",
     "shell.execute_reply": "2024-02-10T20:04:55.984131Z"
    },
    "papermill": {
     "duration": 3.523674,
     "end_time": "2024-02-10T20:04:55.987958",
     "exception": false,
     "start_time": "2024-02-10T20:04:52.464284",
     "status": "completed"
    },
    "tags": []
   },
   "outputs": [
    {
     "name": "stderr",
     "output_type": "stream",
     "text": [
      "/tmp/ipykernel_18/2786871918.py:3: FutureWarning: DataFrame.fillna with 'method' is deprecated and will raise in a future version. Use obj.ffill() or obj.bfill() instead.\n",
      "  sf_permits_with_na_imputed = sf_permits.fillna(method='bfill',axis=0).fillna(0)\n"
     ]
    },
    {
     "data": {
      "application/javascript": [
       "parent.postMessage({\"jupyterEvent\": \"custom.exercise_interaction\", \"data\": {\"outcomeType\": 1, \"valueTowardsCompletion\": 0.16666666666666666, \"interactionType\": 1, \"questionType\": 1, \"questionId\": \"6_ImputeAutomatically\", \"learnToolsVersion\": \"0.3.4\", \"failureMessage\": \"\", \"exceptionClass\": \"\", \"trace\": \"\"}}, \"*\")"
      ],
      "text/plain": [
       "<IPython.core.display.Javascript object>"
      ]
     },
     "metadata": {},
     "output_type": "display_data"
    },
    {
     "data": {
      "text/markdown": [
       "<span style=\"color:#33cc33\">Correct</span>"
      ],
      "text/plain": [
       "Correct"
      ]
     },
     "metadata": {},
     "output_type": "display_data"
    }
   ],
   "source": [
    "# TODO: Your code here\n",
    "# Impute missing values using forward fill and then fill remaining NaNs with 0\n",
    "sf_permits_with_na_imputed = sf_permits.fillna(method='bfill',axis=0).fillna(0)\n",
    "\n",
    "\n",
    "\n",
    "# Check your answer\n",
    "q6.check()"
   ]
  },
  {
   "cell_type": "code",
   "execution_count": 16,
   "id": "a8dd697a",
   "metadata": {
    "execution": {
     "iopub.execute_input": "2024-02-10T20:04:56.019012Z",
     "iopub.status.busy": "2024-02-10T20:04:56.018556Z",
     "iopub.status.idle": "2024-02-10T20:04:56.028422Z",
     "shell.execute_reply": "2024-02-10T20:04:56.027259Z"
    },
    "papermill": {
     "duration": 0.029077,
     "end_time": "2024-02-10T20:04:56.031055",
     "exception": false,
     "start_time": "2024-02-10T20:04:56.001978",
     "status": "completed"
    },
    "tags": []
   },
   "outputs": [
    {
     "data": {
      "application/javascript": [
       "parent.postMessage({\"jupyterEvent\": \"custom.exercise_interaction\", \"data\": {\"interactionType\": 3, \"questionType\": 1, \"questionId\": \"6_ImputeAutomatically\", \"learnToolsVersion\": \"0.3.4\", \"valueTowardsCompletion\": 0.0, \"failureMessage\": \"\", \"exceptionClass\": \"\", \"trace\": \"\", \"outcomeType\": 4}}, \"*\")"
      ],
      "text/plain": [
       "<IPython.core.display.Javascript object>"
      ]
     },
     "metadata": {},
     "output_type": "display_data"
    },
    {
     "data": {
      "text/markdown": [
       "<span style=\"color:#33cc99\">Solution:</span> \n",
       "```python\n",
       "sf_permits_with_na_imputed = sf_permits.fillna(method='bfill', axis=0).fillna(0)\n",
       "\n",
       "```"
      ],
      "text/plain": [
       "Solution: \n",
       "```python\n",
       "sf_permits_with_na_imputed = sf_permits.fillna(method='bfill', axis=0).fillna(0)\n",
       "\n",
       "```"
      ]
     },
     "metadata": {},
     "output_type": "display_data"
    }
   ],
   "source": [
    "# Lines below will give you a hint or solution code\n",
    "#q6.hint()\n",
    "q6.solution()"
   ]
  },
  {
   "cell_type": "markdown",
   "id": "b793e288",
   "metadata": {
    "papermill": {
     "duration": 0.013622,
     "end_time": "2024-02-10T20:04:56.058495",
     "exception": false,
     "start_time": "2024-02-10T20:04:56.044873",
     "status": "completed"
    },
    "tags": []
   },
   "source": [
    "# More practice\n",
    "\n",
    "If you're looking for more practice handling missing values:\n",
    "\n",
    "* Check out [this noteboook](https://www.kaggle.com/alexisbcook/missing-values) on handling missing values using scikit-learn's imputer. \n",
    "* Look back at the \"Zipcode\" column in the `sf_permits` dataset, which has some missing values. How would you go about figuring out what the actual zipcode of each address should be? (You might try using another dataset. You can search for datasets about San Fransisco on the [Datasets listing](https://www.kaggle.com/datasets).) \n",
    "\n",
    "# Keep going\n",
    "\n",
    "In the next lesson, learn how to [**apply scaling and normalization**](https://www.kaggle.com/alexisbcook/scaling-and-normalization) to transform your data."
   ]
  },
  {
   "cell_type": "markdown",
   "id": "d441a917",
   "metadata": {
    "papermill": {
     "duration": 0.013513,
     "end_time": "2024-02-10T20:04:56.085916",
     "exception": false,
     "start_time": "2024-02-10T20:04:56.072403",
     "status": "completed"
    },
    "tags": []
   },
   "source": [
    "---\n",
    "\n",
    "\n",
    "\n",
    "\n",
    "*Have questions or comments? Visit the [course discussion forum](https://www.kaggle.com/learn/data-cleaning/discussion) to chat with other learners.*"
   ]
  }
 ],
 "metadata": {
  "kaggle": {
   "accelerator": "none",
   "dataSources": [
    {
     "datasetId": 16432,
     "sourceId": 21688,
     "sourceType": "datasetVersion"
    }
   ],
   "isGpuEnabled": false,
   "isInternetEnabled": false,
   "language": "python",
   "sourceType": "notebook"
  },
  "kernelspec": {
   "display_name": "Python 3",
   "language": "python",
   "name": "python3"
  },
  "language_info": {
   "codemirror_mode": {
    "name": "ipython",
    "version": 3
   },
   "file_extension": ".py",
   "mimetype": "text/x-python",
   "name": "python",
   "nbconvert_exporter": "python",
   "pygments_lexer": "ipython3",
   "version": "3.10.13"
  },
  "papermill": {
   "default_parameters": {},
   "duration": 22.37296,
   "end_time": "2024-02-10T20:04:56.924573",
   "environment_variables": {},
   "exception": null,
   "input_path": "__notebook__.ipynb",
   "output_path": "__notebook__.ipynb",
   "parameters": {},
   "start_time": "2024-02-10T20:04:34.551613",
   "version": "2.5.0"
  }
 },
 "nbformat": 4,
 "nbformat_minor": 5
}
